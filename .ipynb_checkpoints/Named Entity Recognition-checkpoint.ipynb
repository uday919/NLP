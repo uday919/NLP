{
 "cells": [
  {
   "cell_type": "markdown",
   "id": "d1b0eefc",
   "metadata": {},
   "source": [
    "# Named Entity Recognition"
   ]
  },
  {
   "cell_type": "markdown",
   "id": "1878c6ce",
   "metadata": {},
   "source": [
    "# Example - Person name, Place, Date, Time, Money, Organization, Percentage --> in a given sentence or paragraph"
   ]
  },
  {
   "cell_type": "code",
   "execution_count": 1,
   "id": "1ffdd616",
   "metadata": {},
   "outputs": [],
   "source": [
    "sentence=\"The Taj Mahal was built by the fifth Mughal emperor, Shah Jahan, and the construction began in 1632. The mausoleum itself was completed by about 1638–39, with the adjunct buildings finishing by 1643. Decoration work continued until at least 1647, indicating that the overall construction of the 42-acre (17-hectare) complex spanned approximately 22 years. The complex is located on the right bank of the river Yamuna in Agra, Uttar Pradesh, India, and was commissioned to house the tomb of Shah Jahan's beloved wife, Mumtaz Mahal. The Taj Mahal complex also includes a mosque and a guest house, set in formal gardens bounded on three sides by a crenellated wall.\""
   ]
  },
  {
   "cell_type": "code",
   "execution_count": 4,
   "id": "dc365727",
   "metadata": {},
   "outputs": [],
   "source": [
    "import nltk\n",
    "words=nltk.word_tokenize(sentence)"
   ]
  },
  {
   "cell_type": "code",
   "execution_count": 9,
   "id": "c201a633",
   "metadata": {},
   "outputs": [],
   "source": [
    "tag_elements=nltk.pos_tag(words)"
   ]
  },
  {
   "cell_type": "code",
   "execution_count": 16,
   "id": "0db1c400",
   "metadata": {},
   "outputs": [
    {
     "name": "stderr",
     "output_type": "stream",
     "text": [
      "[nltk_data] Downloading package maxent_ne_chunker to\n",
      "[nltk_data]     /Users/udaykiran/nltk_data...\n",
      "[nltk_data]   Package maxent_ne_chunker is already up-to-date!\n"
     ]
    },
    {
     "data": {
      "text/plain": [
       "True"
      ]
     },
     "execution_count": 16,
     "metadata": {},
     "output_type": "execute_result"
    }
   ],
   "source": [
    "nltk.download('maxent_ne_chunker')"
   ]
  },
  {
   "cell_type": "code",
   "execution_count": 13,
   "id": "180ce0a6",
   "metadata": {},
   "outputs": [
    {
     "name": "stderr",
     "output_type": "stream",
     "text": [
      "[nltk_data] Downloading package words to /Users/udaykiran/nltk_data...\n",
      "[nltk_data]   Unzipping corpora/words.zip.\n"
     ]
    },
    {
     "data": {
      "text/plain": [
       "True"
      ]
     },
     "execution_count": 13,
     "metadata": {},
     "output_type": "execute_result"
    }
   ],
   "source": [
    "nltk.download('words')"
   ]
  },
  {
   "cell_type": "code",
   "execution_count": 15,
   "id": "fd1e2960",
   "metadata": {},
   "outputs": [],
   "source": [
    "nltk.ne_chunk(tag_elements).draw()"
   ]
  }
 ],
 "metadata": {
  "kernelspec": {
   "display_name": "Python 3 (ipykernel)",
   "language": "python",
   "name": "python3"
  },
  "language_info": {
   "codemirror_mode": {
    "name": "ipython",
    "version": 3
   },
   "file_extension": ".py",
   "mimetype": "text/x-python",
   "name": "python",
   "nbconvert_exporter": "python",
   "pygments_lexer": "ipython3",
   "version": "3.9.12"
  }
 },
 "nbformat": 4,
 "nbformat_minor": 5
}
