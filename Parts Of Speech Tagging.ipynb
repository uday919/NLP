{
 "cells": [
  {
   "cell_type": "markdown",
   "id": "f2176f76",
   "metadata": {},
   "source": [
    "# Parts of Speech Tags"
   ]
  },
  {
   "cell_type": "markdown",
   "id": "8d8e4ee0",
   "metadata": {},
   "source": [
    "POS tag list:\n",
    "\n",
    "CC\tcoordinating conjunction\n",
    "CD\tcardinal digit\n",
    "DT\tdeterminer\n",
    "EX\texistential there (like: \"there is\" ... think of it like \"there exists\")\n",
    "FW\tforeign word\n",
    "IN\tpreposition/subordinating conjunction\n",
    "JJ\tadjective\t'big'\n",
    "JJR\tadjective, comparative\t'bigger'\n",
    "JJS\tadjective, superlative\t'biggest'\n",
    "LS\tlist marker\t1)\n",
    "MD\tmodal\tcould, will\n",
    "NN\tnoun, singular 'desk'\n",
    "NNS\tnoun plural\t'desks'\n",
    "NNP\tproper noun, singular\t'Harrison'\n",
    "NNPS\tproper noun, plural\t'Americans'\n",
    "PDT\tpredeterminer\t'all the kids'\n",
    "POS\tpossessive ending\tparent\\'s\n",
    "PRP\tpersonal pronoun\tI, he, she\n",
    "PRP$\tpossessive pronoun\tmy, his, hers\n",
    "RB\tadverb\tvery, silently,\n",
    "RBR\tadverb, comparative\tbetter\n",
    "RBS\tadverb, superlative\tbest\n",
    "RP\tparticle\tgive up\n",
    "TO\tto\tgo 'to' the store.\n",
    "UH\tinterjection\terrrrrrrrm\n",
    "VB\tverb, base form\ttake\n",
    "VBD\tverb, past tense\ttook\n",
    "VBG\tverb, gerund/present participle\ttaking\n",
    "VBN\tverb, past participle\ttaken\n",
    "VBP\tverb, sing. present, non-3d\ttake\n",
    "VBZ\tverb, 3rd person sing. present\ttakes\n",
    "WDT\twh-determiner\twhich\n",
    "WP\twh-pronoun\twho, what\n",
    "WP$\tpossessive wh-pronoun\twhose\n",
    "WRB\twh-abverb\twhere, when"
   ]
  },
  {
   "cell_type": "code",
   "execution_count": 3,
   "id": "34bdc858",
   "metadata": {},
   "outputs": [],
   "source": [
    "paragraph=\"\"\"Blockchain technology has emerged as a revolutionary force in the realm of digital transactions and financial systems, offering a decentralized and secure method for transferring value and verifying transactions. This essay delves into the intricacies of blockchain technology, exploring its workings, implications, and potential future developments.Understanding Blockchain Technology:  At its core, blockchain technology operates as a distributed ledger, a database that records transactions across multiple computers in a network. Each transaction is recorded in a block, and once added to the chain, it becomes immutable. This structure ensures transparency, security, and decentralization, as no single entity controls the entire network. Cryptocurrencies like Bitcoin are built upon this technology, leveraging it to enable peer-to-peer transactions without the need for intermediaries such as banks or governments 3.\n",
    "The Double-Spend Problem and Its Solution: A significant challenge in digital currencies is the double-spend problem, where a digital unit of currency can be duplicated and spent more than once. Traditional solutions involve a trusted third party to verify transactions, but blockchain technology solves this problem through a consensus mechanism among network participants. Miners, who validate transactions, are rewarded with cryptocurrency, creating a self-regulating ecosystem that prevents fraudulent activities \"\"\""
   ]
  },
  {
   "cell_type": "code",
   "execution_count": 9,
   "id": "5d604fbf",
   "metadata": {},
   "outputs": [],
   "source": [
    "import nltk\n",
    "from nltk.corpus import stopwords\n",
    "sentences=nltk.sent_tokenize(paragraph)"
   ]
  },
  {
   "cell_type": "code",
   "execution_count": 11,
   "id": "2a232232",
   "metadata": {},
   "outputs": [
    {
     "data": {
      "text/plain": [
       "['Blockchaintechnologyemergedrevolutionaryforcerealmdigitaltransactionsfinancialsystems,offeringdecentralizedsecuremethodtransferringvalueverifyingtransactions.',\n",
       " 'Thisessaydelvesintricaciesblockchaintechnology,exploringworkings,implications,potentialfuturedevelopments.UnderstandingBlockchainTechnology:Atcore,blockchaintechnologyoperatesdistributedledger,databaserecordstransactionsacrossmultiplecomputersnetwork.',\n",
       " 'Eachtransactionrecordedblock,addedchain,becomesimmutable.',\n",
       " 'Thisstructureensurestransparency,security,decentralization,singleentitycontrolsentirenetwork.',\n",
       " 'CryptocurrencieslikeBitcoinbuiltupontechnology,leveragingenablepeer-to-peertransactionswithoutneedintermediariesbanksgovernments3.',\n",
       " 'TheDouble-SpendProblemItsSolution:Asignificantchallengedigitalcurrenciesdouble-spendproblem,digitalunitcurrencyduplicatedspent.',\n",
       " 'Traditionalsolutionsinvolvetrustedthirdpartyverifytransactions,blockchaintechnologysolvesproblemconsensusmechanismamongnetworkparticipants.',\n",
       " 'Miners,validatetransactions,rewardedcryptocurrency,creatingself-regulatingecosystempreventsfraudulentactivities']"
      ]
     },
     "execution_count": 11,
     "metadata": {},
     "output_type": "execute_result"
    }
   ],
   "source": [
    "sentences"
   ]
  },
  {
   "cell_type": "code",
   "execution_count": 13,
   "id": "132cd739",
   "metadata": {},
   "outputs": [
    {
     "name": "stderr",
     "output_type": "stream",
     "text": [
      "[nltk_data] Downloading package averaged_perceptron_tagger to\n",
      "[nltk_data]     /Users/udaykiran/nltk_data...\n",
      "[nltk_data]   Unzipping taggers/averaged_perceptron_tagger.zip.\n"
     ]
    },
    {
     "data": {
      "text/plain": [
       "True"
      ]
     },
     "execution_count": 13,
     "metadata": {},
     "output_type": "execute_result"
    }
   ],
   "source": [
    "nltk.download('averaged_perceptron_tagger')"
   ]
  },
  {
   "cell_type": "code",
   "execution_count": 16,
   "id": "292b236e",
   "metadata": {},
   "outputs": [
    {
     "name": "stdout",
     "output_type": "stream",
     "text": [
      "[('Blockchaintechnologyemergedrevolutionaryforcerealmdigitaltransactionsfinancialsystems', 'NNS'), (',', ','), ('offeringdecentralizedsecuremethodtransferringvalueverifyingtransactions', 'NNS'), ('.', '.')]\n",
      "[('Thisessaydelvesintricaciesblockchaintechnology', 'NNP'), (',', ','), ('exploringworkings', 'NNS'), (',', ','), ('implications', 'NNS'), (',', ','), ('potentialfuturedevelopments.UnderstandingBlockchainTechnology', 'NN'), (':', ':'), ('Atcore', 'RB'), (',', ','), ('blockchaintechnologyoperatesdistributedledger', 'NN'), (',', ','), ('databaserecordstransactionsacrossmultiplecomputersnetwork', 'NN'), ('.', '.')]\n",
      "[('Eachtransactionrecordedblock', 'NNP'), (',', ','), ('addedchain', 'NN'), (',', ','), ('becomesimmutable', 'JJ'), ('.', '.')]\n",
      "[('Thisstructureensurestransparency', 'NN'), (',', ','), ('security', 'NN'), (',', ','), ('decentralization', 'NN'), (',', ','), ('singleentitycontrolsentirenetwork', 'NN'), ('.', '.')]\n",
      "[('CryptocurrencieslikeBitcoinbuiltupontechnology', 'NNP'), (',', ','), ('leveragingenablepeer-to-peertransactionswithoutneedintermediariesbanksgovernments3', 'NN'), ('.', '.')]\n",
      "[('TheDouble-SpendProblemItsSolution', 'NN'), (':', ':'), ('Asignificantchallengedigitalcurrenciesdouble-spendproblem', 'JJ'), (',', ','), ('digitalunitcurrencyduplicatedspent', 'NN'), ('.', '.')]\n",
      "[('Traditionalsolutionsinvolvetrustedthirdpartyverifytransactions', 'NNS'), (',', ','), ('blockchaintechnologysolvesproblemconsensusmechanismamongnetworkparticipants', 'NNS'), ('.', '.')]\n",
      "[('Miners', 'NNS'), (',', ','), ('validatetransactions', 'NNS'), (',', ','), ('rewardedcryptocurrency', 'NN'), (',', ','), ('creatingself-regulatingecosystempreventsfraudulentactivities', 'NNS')]\n"
     ]
    }
   ],
   "source": [
    "#We will find the Pos Tag\n",
    "\n",
    "for i in range(len(sentences)):\n",
    "    words=nltk.word_tokenize(sentences[i])\n",
    "    words=[word for word in words if word not in set(stopwords.words('english'))]\n",
    "    #sentences[i]=''.join(words)#converting all the list of words into sentences \n",
    "    pos_tag=nltk.pos_tag(words)\n",
    "    print(pos_tag)"
   ]
  },
  {
   "cell_type": "code",
   "execution_count": 21,
   "id": "ef6cf820",
   "metadata": {},
   "outputs": [
    {
     "data": {
      "text/plain": [
       "[[('Taj', 'NNP'),\n",
       "  ('Mahal', 'NNP'),\n",
       "  ('is', 'VBZ'),\n",
       "  ('a', 'DT'),\n",
       "  ('beautiful', 'JJ'),\n",
       "  ('Monument', 'NN')]]"
      ]
     },
     "execution_count": 21,
     "metadata": {},
     "output_type": "execute_result"
    }
   ],
   "source": [
    "sentence=\"Taj Mahal is a beautiful Monument\"\n",
    "tokens = nltk.word_tokenize(sentence)\n",
    "tag=nltk.pos_tag_sents([tokens])\n",
    "tag"
   ]
  },
  {
   "cell_type": "code",
   "execution_count": 22,
   "id": "0f9d73a3",
   "metadata": {},
   "outputs": [
    {
     "name": "stdout",
     "output_type": "stream",
     "text": [
      "[('Taj', 'NNP'), ('Mahal', 'NNP'), ('is', 'VBZ'), ('a', 'DT'), ('beautiful', 'JJ'), ('Monument', 'NN')]\n"
     ]
    }
   ],
   "source": [
    "print(nltk.pos_tag(\"Taj Mahal is a beautiful Monument\".split()))"
   ]
  }
 ],
 "metadata": {
  "kernelspec": {
   "display_name": "Python 3 (ipykernel)",
   "language": "python",
   "name": "python3"
  },
  "language_info": {
   "codemirror_mode": {
    "name": "ipython",
    "version": 3
   },
   "file_extension": ".py",
   "mimetype": "text/x-python",
   "name": "python",
   "nbconvert_exporter": "python",
   "pygments_lexer": "ipython3",
   "version": "3.9.12"
  }
 },
 "nbformat": 4,
 "nbformat_minor": 5
}
