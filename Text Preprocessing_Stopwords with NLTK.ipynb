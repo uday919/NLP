{
 "cells": [
  {
   "cell_type": "code",
   "execution_count": 49,
   "id": "019dbd99",
   "metadata": {},
   "outputs": [],
   "source": [
    "paragraph=\"\"\"Blockchain technology has emerged as a revolutionary force in the realm of digital transactions and financial systems, offering a decentralized and secure method for transferring value and verifying transactions. This essay delves into the intricacies of blockchain technology, exploring its workings, implications, and potential future developments.Understanding Blockchain Technology:  At its core, blockchain technology operates as a distributed ledger, a database that records transactions across multiple computers in a network. Each transaction is recorded in a block, and once added to the chain, it becomes immutable. This structure ensures transparency, security, and decentralization, as no single entity controls the entire network. Cryptocurrencies like Bitcoin are built upon this technology, leveraging it to enable peer-to-peer transactions without the need for intermediaries such as banks or governments 3.\n",
    "The Double-Spend Problem and Its Solution: A significant challenge in digital currencies is the double-spend problem, where a digital unit of currency can be duplicated and spent more than once. Traditional solutions involve a trusted third party to verify transactions, but blockchain technology solves this problem through a consensus mechanism among network participants. Miners, who validate transactions, are rewarded with cryptocurrency, creating a self-regulating ecosystem that prevents fraudulent activities \"\"\""
   ]
  },
  {
   "cell_type": "code",
   "execution_count": 50,
   "id": "c75b3fcc",
   "metadata": {},
   "outputs": [],
   "source": [
    "from nltk.stem import PorterStemmer"
   ]
  },
  {
   "cell_type": "code",
   "execution_count": 51,
   "id": "bfabbd0e",
   "metadata": {},
   "outputs": [],
   "source": [
    "from nltk.corpus import stopwords"
   ]
  },
  {
   "cell_type": "code",
   "execution_count": 52,
   "id": "060fd558",
   "metadata": {},
   "outputs": [
    {
     "name": "stderr",
     "output_type": "stream",
     "text": [
      "[nltk_data] Downloading package stopwords to\n",
      "[nltk_data]     /Users/udaykiran/nltk_data...\n",
      "[nltk_data]   Package stopwords is already up-to-date!\n"
     ]
    },
    {
     "data": {
      "text/plain": [
       "True"
      ]
     },
     "execution_count": 52,
     "metadata": {},
     "output_type": "execute_result"
    }
   ],
   "source": [
    "import nltk\n",
    "nltk.download('stopwords')"
   ]
  },
  {
   "cell_type": "code",
   "execution_count": 53,
   "id": "1064c549",
   "metadata": {},
   "outputs": [
    {
     "data": {
      "text/plain": [
       "['i',\n",
       " 'me',\n",
       " 'my',\n",
       " 'myself',\n",
       " 'we',\n",
       " 'our',\n",
       " 'ours',\n",
       " 'ourselves',\n",
       " 'you',\n",
       " \"you're\",\n",
       " \"you've\",\n",
       " \"you'll\",\n",
       " \"you'd\",\n",
       " 'your',\n",
       " 'yours',\n",
       " 'yourself',\n",
       " 'yourselves',\n",
       " 'he',\n",
       " 'him',\n",
       " 'his',\n",
       " 'himself',\n",
       " 'she',\n",
       " \"she's\",\n",
       " 'her',\n",
       " 'hers',\n",
       " 'herself',\n",
       " 'it',\n",
       " \"it's\",\n",
       " 'its',\n",
       " 'itself',\n",
       " 'they',\n",
       " 'them',\n",
       " 'their',\n",
       " 'theirs',\n",
       " 'themselves',\n",
       " 'what',\n",
       " 'which',\n",
       " 'who',\n",
       " 'whom',\n",
       " 'this',\n",
       " 'that',\n",
       " \"that'll\",\n",
       " 'these',\n",
       " 'those',\n",
       " 'am',\n",
       " 'is',\n",
       " 'are',\n",
       " 'was',\n",
       " 'were',\n",
       " 'be',\n",
       " 'been',\n",
       " 'being',\n",
       " 'have',\n",
       " 'has',\n",
       " 'had',\n",
       " 'having',\n",
       " 'do',\n",
       " 'does',\n",
       " 'did',\n",
       " 'doing',\n",
       " 'a',\n",
       " 'an',\n",
       " 'the',\n",
       " 'and',\n",
       " 'but',\n",
       " 'if',\n",
       " 'or',\n",
       " 'because',\n",
       " 'as',\n",
       " 'until',\n",
       " 'while',\n",
       " 'of',\n",
       " 'at',\n",
       " 'by',\n",
       " 'for',\n",
       " 'with',\n",
       " 'about',\n",
       " 'against',\n",
       " 'between',\n",
       " 'into',\n",
       " 'through',\n",
       " 'during',\n",
       " 'before',\n",
       " 'after',\n",
       " 'above',\n",
       " 'below',\n",
       " 'to',\n",
       " 'from',\n",
       " 'up',\n",
       " 'down',\n",
       " 'in',\n",
       " 'out',\n",
       " 'on',\n",
       " 'off',\n",
       " 'over',\n",
       " 'under',\n",
       " 'again',\n",
       " 'further',\n",
       " 'then',\n",
       " 'once',\n",
       " 'here',\n",
       " 'there',\n",
       " 'when',\n",
       " 'where',\n",
       " 'why',\n",
       " 'how',\n",
       " 'all',\n",
       " 'any',\n",
       " 'both',\n",
       " 'each',\n",
       " 'few',\n",
       " 'more',\n",
       " 'most',\n",
       " 'other',\n",
       " 'some',\n",
       " 'such',\n",
       " 'no',\n",
       " 'nor',\n",
       " 'not',\n",
       " 'only',\n",
       " 'own',\n",
       " 'same',\n",
       " 'so',\n",
       " 'than',\n",
       " 'too',\n",
       " 'very',\n",
       " 's',\n",
       " 't',\n",
       " 'can',\n",
       " 'will',\n",
       " 'just',\n",
       " 'don',\n",
       " \"don't\",\n",
       " 'should',\n",
       " \"should've\",\n",
       " 'now',\n",
       " 'd',\n",
       " 'll',\n",
       " 'm',\n",
       " 'o',\n",
       " 're',\n",
       " 've',\n",
       " 'y',\n",
       " 'ain',\n",
       " 'aren',\n",
       " \"aren't\",\n",
       " 'couldn',\n",
       " \"couldn't\",\n",
       " 'didn',\n",
       " \"didn't\",\n",
       " 'doesn',\n",
       " \"doesn't\",\n",
       " 'hadn',\n",
       " \"hadn't\",\n",
       " 'hasn',\n",
       " \"hasn't\",\n",
       " 'haven',\n",
       " \"haven't\",\n",
       " 'isn',\n",
       " \"isn't\",\n",
       " 'ma',\n",
       " 'mightn',\n",
       " \"mightn't\",\n",
       " 'mustn',\n",
       " \"mustn't\",\n",
       " 'needn',\n",
       " \"needn't\",\n",
       " 'shan',\n",
       " \"shan't\",\n",
       " 'shouldn',\n",
       " \"shouldn't\",\n",
       " 'wasn',\n",
       " \"wasn't\",\n",
       " 'weren',\n",
       " \"weren't\",\n",
       " 'won',\n",
       " \"won't\",\n",
       " 'wouldn',\n",
       " \"wouldn't\"]"
      ]
     },
     "execution_count": 53,
     "metadata": {},
     "output_type": "execute_result"
    }
   ],
   "source": [
    "stopwords.words('english')"
   ]
  },
  {
   "cell_type": "code",
   "execution_count": 54,
   "id": "94e72a54",
   "metadata": {},
   "outputs": [
    {
     "data": {
      "text/plain": [
       "['au',\n",
       " 'aux',\n",
       " 'avec',\n",
       " 'ce',\n",
       " 'ces',\n",
       " 'dans',\n",
       " 'de',\n",
       " 'des',\n",
       " 'du',\n",
       " 'elle',\n",
       " 'en',\n",
       " 'et',\n",
       " 'eux',\n",
       " 'il',\n",
       " 'ils',\n",
       " 'je',\n",
       " 'la',\n",
       " 'le',\n",
       " 'les',\n",
       " 'leur',\n",
       " 'lui',\n",
       " 'ma',\n",
       " 'mais',\n",
       " 'me',\n",
       " 'même',\n",
       " 'mes',\n",
       " 'moi',\n",
       " 'mon',\n",
       " 'ne',\n",
       " 'nos',\n",
       " 'notre',\n",
       " 'nous',\n",
       " 'on',\n",
       " 'ou',\n",
       " 'par',\n",
       " 'pas',\n",
       " 'pour',\n",
       " 'qu',\n",
       " 'que',\n",
       " 'qui',\n",
       " 'sa',\n",
       " 'se',\n",
       " 'ses',\n",
       " 'son',\n",
       " 'sur',\n",
       " 'ta',\n",
       " 'te',\n",
       " 'tes',\n",
       " 'toi',\n",
       " 'ton',\n",
       " 'tu',\n",
       " 'un',\n",
       " 'une',\n",
       " 'vos',\n",
       " 'votre',\n",
       " 'vous',\n",
       " 'c',\n",
       " 'd',\n",
       " 'j',\n",
       " 'l',\n",
       " 'à',\n",
       " 'm',\n",
       " 'n',\n",
       " 's',\n",
       " 't',\n",
       " 'y',\n",
       " 'été',\n",
       " 'étée',\n",
       " 'étées',\n",
       " 'étés',\n",
       " 'étant',\n",
       " 'étante',\n",
       " 'étants',\n",
       " 'étantes',\n",
       " 'suis',\n",
       " 'es',\n",
       " 'est',\n",
       " 'sommes',\n",
       " 'êtes',\n",
       " 'sont',\n",
       " 'serai',\n",
       " 'seras',\n",
       " 'sera',\n",
       " 'serons',\n",
       " 'serez',\n",
       " 'seront',\n",
       " 'serais',\n",
       " 'serait',\n",
       " 'serions',\n",
       " 'seriez',\n",
       " 'seraient',\n",
       " 'étais',\n",
       " 'était',\n",
       " 'étions',\n",
       " 'étiez',\n",
       " 'étaient',\n",
       " 'fus',\n",
       " 'fut',\n",
       " 'fûmes',\n",
       " 'fûtes',\n",
       " 'furent',\n",
       " 'sois',\n",
       " 'soit',\n",
       " 'soyons',\n",
       " 'soyez',\n",
       " 'soient',\n",
       " 'fusse',\n",
       " 'fusses',\n",
       " 'fût',\n",
       " 'fussions',\n",
       " 'fussiez',\n",
       " 'fussent',\n",
       " 'ayant',\n",
       " 'ayante',\n",
       " 'ayantes',\n",
       " 'ayants',\n",
       " 'eu',\n",
       " 'eue',\n",
       " 'eues',\n",
       " 'eus',\n",
       " 'ai',\n",
       " 'as',\n",
       " 'avons',\n",
       " 'avez',\n",
       " 'ont',\n",
       " 'aurai',\n",
       " 'auras',\n",
       " 'aura',\n",
       " 'aurons',\n",
       " 'aurez',\n",
       " 'auront',\n",
       " 'aurais',\n",
       " 'aurait',\n",
       " 'aurions',\n",
       " 'auriez',\n",
       " 'auraient',\n",
       " 'avais',\n",
       " 'avait',\n",
       " 'avions',\n",
       " 'aviez',\n",
       " 'avaient',\n",
       " 'eut',\n",
       " 'eûmes',\n",
       " 'eûtes',\n",
       " 'eurent',\n",
       " 'aie',\n",
       " 'aies',\n",
       " 'ait',\n",
       " 'ayons',\n",
       " 'ayez',\n",
       " 'aient',\n",
       " 'eusse',\n",
       " 'eusses',\n",
       " 'eût',\n",
       " 'eussions',\n",
       " 'eussiez',\n",
       " 'eussent']"
      ]
     },
     "execution_count": 54,
     "metadata": {},
     "output_type": "execute_result"
    }
   ],
   "source": [
    "stopwords.words('french')"
   ]
  },
  {
   "cell_type": "code",
   "execution_count": 55,
   "id": "7ff53217",
   "metadata": {},
   "outputs": [],
   "source": [
    "from nltk.stem import PorterStemmer"
   ]
  },
  {
   "cell_type": "code",
   "execution_count": 56,
   "id": "600966c7",
   "metadata": {},
   "outputs": [],
   "source": [
    "stemmer=PorterStemmer()"
   ]
  },
  {
   "cell_type": "code",
   "execution_count": 75,
   "id": "4ba04bc4",
   "metadata": {},
   "outputs": [],
   "source": [
    "sentences=nltk.sent_tokenize(paragraph) #take a paragraph divide into sentences"
   ]
  },
  {
   "cell_type": "code",
   "execution_count": 58,
   "id": "4a4f7df5",
   "metadata": {},
   "outputs": [
    {
     "data": {
      "text/plain": [
       "list"
      ]
     },
     "execution_count": 58,
     "metadata": {},
     "output_type": "execute_result"
    }
   ],
   "source": [
    "type(sentences)"
   ]
  },
  {
   "cell_type": "code",
   "execution_count": 59,
   "id": "2b61a89c",
   "metadata": {},
   "outputs": [
    {
     "name": "stdout",
     "output_type": "stream",
     "text": [
      "['Blockchain technology has emerged as a revolutionary force in the realm of digital transactions and financial systems, offering a decentralized and secure method for transferring value and verifying transactions.', 'This essay delves into the intricacies of blockchain technology, exploring its workings, implications, and potential future developments.Understanding Blockchain Technology:  At its core, blockchain technology operates as a distributed ledger, a database that records transactions across multiple computers in a network.', 'Each transaction is recorded in a block, and once added to the chain, it becomes immutable.', 'This structure ensures transparency, security, and decentralization, as no single entity controls the entire network.', 'Cryptocurrencies like Bitcoin are built upon this technology, leveraging it to enable peer-to-peer transactions without the need for intermediaries such as banks or governments 3.', 'The Double-Spend Problem and Its Solution: A significant challenge in digital currencies is the double-spend problem, where a digital unit of currency can be duplicated and spent more than once.', 'Traditional solutions involve a trusted third party to verify transactions, but blockchain technology solves this problem through a consensus mechanism among network participants.', 'Miners, who validate transactions, are rewarded with cryptocurrency, creating a self-regulating ecosystem that prevents fraudulent activities']\n"
     ]
    }
   ],
   "source": [
    "print(sentences)"
   ]
  },
  {
   "cell_type": "code",
   "execution_count": 65,
   "id": "683376c1",
   "metadata": {},
   "outputs": [],
   "source": [
    "#Apply stopwords and filter and then apply stemming\n",
    "\n",
    "for i in range(len(sentences)):\n",
    "    words=nltk.word_tokenize(sentences[i])\n",
    "    words=[stemmer.stem(word) for word in words if word not in set(stopwords.words('english'))]\n",
    "    sentences[i]=''.join(words)#converting all the list of words into sentences "
   ]
  },
  {
   "cell_type": "code",
   "execution_count": 66,
   "id": "fd1bf469",
   "metadata": {},
   "outputs": [
    {
     "data": {
      "text/plain": [
       "['blockchaintechnologemergrevolutionariforcrealmdigittransactfinancisystem,offerdecentrsecurmethodtransfervaluverifitransact.',\n",
       " 'thiessaydelvintricaciblockchaintechnolog,explorwork,implic,potentifuturdevelopments.understandblockchaintechnolog:atcor,blockchaintechnologoperdistributledg,databasrecordtransactacrossmultiplcomputnetwork.',\n",
       " 'eachtransactrecordblock,adchain,becomimmut.',\n",
       " 'thistructurensurtranspar,secur,decentr,singlentiticontrolentirnetwork.',\n",
       " 'cryptocurrlikebitcoinbuiltupontechnolog,leveragenablpeer-to-ptransactwithoutneedintermediaribankgovern3.',\n",
       " 'thedouble-spendproblemitsolut:asignificchallengdigitcurrencdouble-spendproblem,digitunitcurrencduplicsp.',\n",
       " 'traditsolutinvolvtrustthirdpartiverifitransact,blockchaintechnologsolvproblemconsensumechanamongnetworkparticip.',\n",
       " 'miner,validtransact,rewardcryptocurr,creatself-regulecosystempreventfraudulactiv']"
      ]
     },
     "execution_count": 66,
     "metadata": {},
     "output_type": "execute_result"
    }
   ],
   "source": [
    "sentences"
   ]
  },
  {
   "cell_type": "code",
   "execution_count": 67,
   "id": "6c33d0ef",
   "metadata": {},
   "outputs": [],
   "source": [
    "from nltk.stem import SnowballStemmer\n",
    "snowballstemmer=SnowballStemmer('english')"
   ]
  },
  {
   "cell_type": "code",
   "execution_count": 68,
   "id": "fd34bbe1",
   "metadata": {},
   "outputs": [],
   "source": [
    "#Apply stopwords and filter and then apply snowball stemming\n",
    "\n",
    "for i in range(len(sentences)):\n",
    "    words=nltk.word_tokenize(sentences[i])\n",
    "    words=[snowballstemmer.stem(word) for word in words if word not in set(stopwords.words('english'))]\n",
    "    sentences[i]=''.join(words)#converting all the list of words into sentences "
   ]
  },
  {
   "cell_type": "code",
   "execution_count": 69,
   "id": "98985f41",
   "metadata": {},
   "outputs": [
    {
     "data": {
      "text/plain": [
       "['blockchaintechnologemergrevolutionariforcrealmdigittransactfinancisystem,offerdecentrsecurmethodtransfervaluverifitransact.',\n",
       " 'thiessaydelvintricaciblockchaintechnolog,explorwork,implic,potentifuturdevelopments.understandblockchaintechnolog:atcor,blockchaintechnologoperdistributledg,databasrecordtransactacrossmultiplcomputnetwork.',\n",
       " 'eachtransactrecordblock,adchain,becomimmut.',\n",
       " 'thistructurensurtranspar,secur,decentr,singlentiticontrolentirnetwork.',\n",
       " 'cryptocurrlikebitcoinbuiltupontechnolog,leveragenablpeer-to-ptransactwithoutneedintermediaribankgovern3.',\n",
       " 'thedouble-spendproblemitsolut:asignificchallengdigitcurrencdouble-spendproblem,digitunitcurrencduplicsp.',\n",
       " 'traditsolutinvolvtrustthirdpartiverifitransact,blockchaintechnologsolvproblemconsensumechanamongnetworkparticip.',\n",
       " 'miner,validtransact,rewardcryptocurr,creatself-regulecosystempreventfraudulactiv']"
      ]
     },
     "execution_count": 69,
     "metadata": {},
     "output_type": "execute_result"
    }
   ],
   "source": [
    "sentences"
   ]
  },
  {
   "cell_type": "code",
   "execution_count": 73,
   "id": "2435f63a",
   "metadata": {},
   "outputs": [],
   "source": [
    "from nltk.stem import WordNetLemmatizer\n",
    "lemmatizer=WordNetLemmatizer()"
   ]
  },
  {
   "cell_type": "code",
   "execution_count": 79,
   "id": "a40963ef",
   "metadata": {},
   "outputs": [],
   "source": [
    "#Apply stopwords and filter and then apply snowball stemming\n",
    "\n",
    "for i in range(len(sentences)):\n",
    "    words=nltk.word_tokenize(sentences[i])\n",
    "    words=[lemmatizer.lemmatize(word,pos='v') for word in words if word not in set(stopwords.words('english'))]\n",
    "    sentences[i]=''.join(words)#converting all the list of words into sentences "
   ]
  },
  {
   "cell_type": "code",
   "execution_count": 80,
   "id": "fc86b0b7",
   "metadata": {},
   "outputs": [
    {
     "data": {
      "text/plain": [
       "['Blockchaintechnologyemergedrevolutionaryforcerealmdigitaltransactionfinancialsystem,offeringdecentralizedsecuremethodtransferringvalueverifyingtransaction.',\n",
       " 'Thisessaydelfintricacyblockchaintechnology,exploringworking,implication,potentialfuturedevelopments.UnderstandingBlockchainTechnology:Atcore,blockchaintechnologyoperatesdistributedledger,databaserecordtransactionacrossmultiplecomputernetwork.',\n",
       " 'Eachtransactionrecordedblock,addedchain,becomesimmutable.',\n",
       " 'Thisstructureensurestransparency,security,decentralization,singleentitycontrolentirenetwork.',\n",
       " 'CryptocurrencieslikeBitcoinbuiltupontechnology,leveragingenablepeer-to-peertransactionwithoutneedintermediarybankgovernment3.',\n",
       " 'TheDouble-SpendProblemItsSolution:Asignificantchallengedigitalcurrencydouble-spendproblem,digitalunitcurrencyduplicatedspent.',\n",
       " 'Traditionalsolutioninvolvetrustedthirdpartyverifytransaction,blockchaintechnologysolvesproblemconsensusmechanismamongnetworkparticipant.',\n",
       " 'Miners,validatetransaction,rewardedcryptocurrency,creatingself-regulatingecosystempreventsfraudulentactivity']"
      ]
     },
     "execution_count": 80,
     "metadata": {},
     "output_type": "execute_result"
    }
   ],
   "source": [
    "sentences"
   ]
  }
 ],
 "metadata": {
  "kernelspec": {
   "display_name": "Python 3 (ipykernel)",
   "language": "python",
   "name": "python3"
  },
  "language_info": {
   "codemirror_mode": {
    "name": "ipython",
    "version": 3
   },
   "file_extension": ".py",
   "mimetype": "text/x-python",
   "name": "python",
   "nbconvert_exporter": "python",
   "pygments_lexer": "ipython3",
   "version": "3.9.12"
  }
 },
 "nbformat": 4,
 "nbformat_minor": 5
}
